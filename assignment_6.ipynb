{
 "cells": [
  {
   "cell_type": "code",
   "execution_count": 19,
   "id": "cadd1b81-89b0-4e1a-aa59-dcf8f9dcc704",
   "metadata": {},
   "outputs": [],
   "source": [
    "def get_product(lst):\n",
    "    flattened_list = []\n",
    "    \n",
    "    def flatten_list(lst):\n",
    "        for item in lst:\n",
    "            if isinstance(item, list):\n",
    "                flatten_list(item)\n",
    "            else:\n",
    "                flattened_list.append(item)\n",
    "    \n",
    "    flatten_list(lst)\n",
    "    \n",
    "    product = 1\n",
    "    for num in flattened_list:\n",
    "        if isinstance(num, (int, float)):\n",
    "            product *= num\n",
    "    \n",
    "    return product\n"
   ]
  },
  {
   "cell_type": "code",
   "execution_count": 20,
   "id": "668a2666-cf70-4480-8466-a634ef62966b",
   "metadata": {},
   "outputs": [
    {
     "name": "stdout",
     "output_type": "stream",
     "text": [
      "0\n"
     ]
    }
   ],
   "source": [
    "list1 = [1, 2, 3, 4, [44, 55, 66, True], False, (34, 56, 78, 89, 34), {1, 2, 3, 3, 2, 1}, {1: 34, \"key2\": [55, 67, 78, 89], 4: (45, 22, 61, 34)}, [56, 'data science'], 'Machine Learning']\n",
    "result = get_product(list1)\n",
    "print(result)\n"
   ]
  },
  {
   "cell_type": "markdown",
   "id": "01eb3069-2d8d-4c84-859f-5e39c3a85901",
   "metadata": {},
   "source": [
    "Question No.2"
   ]
  },
  {
   "cell_type": "code",
   "execution_count": 31,
   "id": "029a5695-55d7-4d0a-a416-ec3444f9b0e2",
   "metadata": {},
   "outputs": [
    {
     "name": "stdout",
     "output_type": "stream",
     "text": [
      "R$dzmg$gl$yvxlnv$z$Wzgz$Hxrvmgrhg.\n"
     ]
    }
   ],
   "source": [
    "def encrypt_message(message):\n",
    "    encrypted_message = \"\"\n",
    "    \n",
    "    for char in message:\n",
    "        if char.isalpha():\n",
    "            if char.islower():\n",
    "                encrypted_char = chr(ord('z') - (ord(char) - ord('a')))\n",
    "            else:\n",
    "                encrypted_char = chr(ord('Z') - (ord(char) - ord('A')))\n",
    "        elif char == ' ':\n",
    "            encrypted_char = '$'\n",
    "        else:\n",
    "            encrypted_char = char\n",
    "        \n",
    "        encrypted_message += encrypted_char\n",
    "    \n",
    "    return encrypted_message\n",
    "\n",
    "\n",
    "input_sentence = \"I want to become a Data Scientist.\"\n",
    "encrypted_sentence = encrypt_message(input_sentence)\n",
    "print(encrypted_sentence)\n"
   ]
  },
  {
   "cell_type": "code",
   "execution_count": null,
   "id": "308eb91b-dc21-4626-842e-7b797f01f2dc",
   "metadata": {},
   "outputs": [],
   "source": []
  }
 ],
 "metadata": {
  "kernelspec": {
   "display_name": "Python 3 (ipykernel)",
   "language": "python",
   "name": "python3"
  },
  "language_info": {
   "codemirror_mode": {
    "name": "ipython",
    "version": 3
   },
   "file_extension": ".py",
   "mimetype": "text/x-python",
   "name": "python",
   "nbconvert_exporter": "python",
   "pygments_lexer": "ipython3",
   "version": "3.10.8"
  }
 },
 "nbformat": 4,
 "nbformat_minor": 5
}
